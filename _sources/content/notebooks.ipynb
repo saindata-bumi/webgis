{
 "cells": [
  {
   "cell_type": "markdown",
   "metadata": {},
   "source": [
    "<hr>"
   ]
  },
  {
   "cell_type": "markdown",
   "metadata": {},
   "source": [
    "# Alur Kerja Pembelajaran Mesin"
   ]
  },
  {
   "cell_type": "markdown",
   "metadata": {},
   "source": []
  },
  {
   "cell_type": "markdown",
   "metadata": {},
   "source": [
    "<hr>"
   ]
  },
  {
   "cell_type": "markdown",
   "metadata": {},
   "source": [
    "<hr>"
   ]
  },
  {
   "cell_type": "markdown",
   "metadata": {},
   "source": [
    "## Pengantar"
   ]
  },
  {
   "cell_type": "markdown",
   "metadata": {},
   "source": [
    "<p align=\"justify\"> Bagian ini memberikan  gambaran umum tentang langkah-langkah  alur kerja Machine Learning. Sebelum memulai pada implementasi sain data bumi, kita perlu mengenal secara  umum tentang prinsip-prinsip Pembelajaran Mesin, istilah umum yang sering digunakan dan alur kerja Pembelajaran Mesin\n",
    "\n",
    "Alur kerja Machine Learning dapat dibagi menjadi lima langkah utama:</p>\n",
    "\n",
    "```{figure} ./img/ml_workflow.png\n",
    ":align: center\n",
    "```\n",
    "\n",
    "\n",
    "\n",
    "\n"
   ]
  },
  {
   "cell_type": "markdown",
   "metadata": {},
   "source": [
    "Selanjutnya, kami akan menjelaskan kepada Anda secara rinci masing-masing dari lima langkah alur kerja. Jika diperlukan, kami mengkaitkan dengan contoh  khusus sesuai dengan langkah tersebut"
   ]
  },
  {
   "cell_type": "markdown",
   "metadata": {},
   "source": [
    "<hr>"
   ]
  },
  {
   "cell_type": "markdown",
   "metadata": {},
   "source": [
    "## Garis besar pembahasan"
   ]
  },
  {
   "cell_type": "markdown",
   "metadata": {},
   "source": [
    "* 1 - [Memahami masalah pembelajaran mesin anda](#understand)\n",
    "* 2 - [Persiapan data ](#data_preparation)\n",
    "* 3 - [Membangun model , training dan testing the model](#model_training)\n",
    "* 4 - [Evaluasi Model](#model_evaluation)\n",
    "* 5 - [Inference](#inference)"
   ]
  },
  {
   "cell_type": "markdown",
   "metadata": {},
   "source": [
    "<hr>"
   ]
  },
  {
   "cell_type": "markdown",
   "metadata": {},
   "source": [
    "<br>"
   ]
  },
  {
   "cell_type": "markdown",
   "metadata": {},
   "source": [
    "## <a id='understand'></a>1. Memahami masalah pembelajaran mesin anda"
   ]
  },
  {
   "cell_type": "markdown",
   "metadata": {},
   "source": [
    "Tahap awal dalam  setiap proyek Machine Learning adalah memahami masalah yang ingin kita pecahkan. Dengan mamahami masalah secara jelas maka kita dapat menentukan model apa yang akan digunakan untuk memecahkannya. Pemahaman yang baik tentang masalah  adalah kunci keberhasilan proyek yang kita kerjakan. Model ML yang diimpleentasikan adalah sebuah algoritma yang keakuratan terhadapa prediksi atau klasifikasinya  bergantung pada pemahaman tentang masalah tersebut"
   ]
  },
  {
   "cell_type": "markdown",
   "metadata": {},
   "source": [
    "### Perbedaan mendasar Kecerdasan Buatan, Pembelajaran Mesing dan Deep Learning"
   ]
  },
  {
   "cell_type": "markdown",
   "metadata": {},
   "source": [
    "Sebelum kita mendalami lebih dalam  Pembelajaran Mesin, ada baiknya jika kita lebih memahami perbedaan antara `Kecerdasan Buatan`, `Pembelajaran Mesin`, dan `Deep Learning`"
   ]
  },
  {
   "cell_type": "markdown",
   "metadata": {},
   "source": [
    "<br>\n",
    "* **Kecerdasan Buatan**: adalah ilmu yang mempelajari cara membangun program dan mesin cerdas yang dapat memecahkan masalah secara kreatif.\n",
    "\n",
    "* **Pembelajaran Mesin**: adalah bagian dari Kecerdasan Buatan yang menjadikan sistem mampua untuk belajar dan memperbaiki dari pengalamannya, tanpa diprogram secara eksplisit. ML menggunakan berbagai algoritma yang membantu memecahkan masalah.\n",
    "\n",
    "* **Deep Learning**: adalah bagia dari Pembelajaran Mesin dengan Neural Networks sebagai dasar pondasinya algoritma. Perbedaan antara jaringan saraf tunggal dan algoritma Deep Learning adalah jumlah lapisan atau kedalaman simpul. Suatu algoritma harus memiliki setidaknya tiga lapisan node untuk diklasifikasikan sebagai algoritma Deep Learning"
   ]
  },
  {
   "cell_type": "markdown",
   "metadata": {},
   "source": [
    "Subsequently, we will show you the different categories of Machine Learning and for each category we will list popular ML algorithms."
   ]
  },
  {
   "cell_type": "markdown",
   "metadata": {},
   "source": [
    "### Kategori Pembelajaran Mesin"
   ]
  },
  {
   "cell_type": "markdown",
   "metadata": {},
   "source": [
    "Pembelajaran Mesin secara kasar dapat dibagi menjadi empat pendekatan dasar: Pembelajaran yang terawasi (Supervised Learning), Pembelajaran Tak Terawasi (Unsupervised Learning), Pembelajaran Penguatan (Reinforcement Learning), dan Pembelajaran Mendalam (Deep Learning) / Jaringan Syaraf Tiruan`. Kategori-kategorinya cukup tumpang tindih dan tidak jelas, dan metode tertentu terkadang sulit ditempatkan dalam satu kategori."
   ]
  },
  {
   "cell_type": "markdown",
   "metadata": {},
   "source": [
    "#### Pembelajaran Terawasi(Supervised Learning)"
   ]
  },
  {
   "cell_type": "markdown",
   "metadata": {},
   "source": [
    "Dalam pembelajaran yang diawasi, algoritma atau model anda  belajar dari data yang 'diberi label'. Berdasarkan data yang 'diberi label', algoritma/model akan menentukan label dari data uji yang digunakan. Tujuan dari pembelajaran yang terawasi adalah untuk memprediksi hasil dari data baru dengan belajar dari data yang sudah berlabel. Algoritme pembelajaran yang terawasi dapat diklasifikasikan dalam dua kategori:\n",
    "\n",
    "\n",
    "* **Klasisifkasi(Classification)**: Anda memiliki masalah klasifikasi jika variabel outputnya adalah kategorikal. Misalka outputnya diklasifikasikan  menjadi kelas A atau kelas B.Contoh algoritma atau metode klasifikasi adalah\n",
    "  * `K-Nearest Neighbor`\n",
    "  * `Naive Bayes`\n",
    "  * `Decision Trees / Random Forest`\n",
    "  * `Support Vector Machine`\n",
    "  * `Logistic Regression`\n",
    "\n",
    "\n",
    "* **Regresi (Regression)**: Regresi adalah adalah jenis lain dari metode pembelajaran terbimbing yang menggunakan algoritma untuk memahami hubungan antara variabel terikat dan bebas. Model regresi sering digunakan untuk memprediksi nilai numerik berdasarkan  data yang berbeda. Algoritma regresi yang populer adalah\n",
    "  * `Linear regression`\n",
    "  * `Logistic regression`\n",
    "  * `Polynomial regression`\n"
   ]
  },
  {
   "cell_type": "markdown",
   "metadata": {},
   "source": [
    "#### Pembelajaran Tak terawasi (Unsupervised Learning)"
   ]
  },
  {
   "cell_type": "markdown",
   "metadata": {},
   "source": [
    "Dalam pembelajaran tanpa pengawasan, algoritme Anda belajar dari data yang tidak berlabel dan tidak diklasifikasikan, dan algoritma beroperasi pada data tersebut tanpa pelatihan sebelumnya. Algoritma ini berusaha menemukan pola tersembunyi dari data tanpa memerlukan campur tangan kita. Tujuan pembelajaran tak terawasi adalah untuk mendapatkan diskripsi dari data baru dalam jumlah besar. Pembelajaran tak terawasi dapat dibagi menjadi 2 bagian\n",
    "\n",
    "* **Pengelompokan (Clustering)**: adalah teknik data mining untuk mengelompokkan data yang tidak berlabel berdasarkan persamaan atau perbedaannya.\n",
    "\n",
    "* **Keterkaitan (Association)**: adalah jenis lain dari metode pembelajaran tanpa pengawasan yang menggunakan aturan berbeda untuk menemukan hubungan antar variabel dalam kumpulan data tertentu.\n",
    "\n",
    "\n",
    "Algoritma pembelajaran tak terawasi secara umum adalah:\n",
    "  * `Gaussian mixtures`\n",
    "  * `K-Means Clustering`\n",
    "  * `Boosting`\n",
    "  * `Hierarchical Clustering`\n",
    "  * `K-Means Clustering`\n",
    "  * `Spectral Clustering`"
   ]
  },
  {
   "cell_type": "code",
   "execution_count": null,
   "metadata": {},
   "outputs": [],
   "source": []
  },
  {
   "cell_type": "markdown",
   "metadata": {},
   "source": [
    "#### Reinforcement Learning"
   ]
  },
  {
   "cell_type": "markdown",
   "metadata": {},
   "source": [
    "Reinforcement Learning biasanya digunakan dalam situasi di mana agen AI, mis. mobil yang bisa mengemudi sendiri, harus beroperasi di lingkungan di mana umpan balik tentang pilihan baik atau buruk tersedia dengan beberapa penundaan."
   ]
  },
  {
   "cell_type": "markdown",
   "metadata": {},
   "source": [
    "<br>"
   ]
  },
  {
   "cell_type": "markdown",
   "metadata": {},
   "source": [
    "#### Deep Learning / Jaringan Syarat (Neural Networks)"
   ]
  },
  {
   "cell_type": "markdown",
   "metadata": {},
   "source": [
    "Deep Learning / Neural Networks is a subset of Machine Learning and the main difference to other Machine Learning algorithms is in how much data the algorithm uses to learn. Neural Networks replicate the structure and function of the human brain. Neural networks consist of artificial neurons, also known as nodes, which are stacked next to each other in three layers: `input layer`, `hidden layer(s)` and `output layer`.\n",
    "\n",
    "Neural networks can leverage labeled datasets (supervised learning) but can also work with unstructured, raw data (unsupervised learning). The *deep* in Deep Learning refers to the depth of layers in a neural network. A neural network that consists of more than three layers (including input and output layers) can be considered a deep learning algorithm.\n",
    "P\n",
    "embelajaran Mendalam (Deep Learning) /Jaringan Syaraf Tiruan adalah bagian dari Pembelajaran Mesin. Perbedaan utama dengan algoritme Pembelajaran Mesin terletak pada jumlah data yang digunakan  dan algoritme untuk mempelajari data tersebut. Jaringan Neural meniru struktur dan fungsi otak manusia. Jaringan saraf terdiri dari neuron buatan, juga dikenal sebagai node, yang ditumpuk  dalam tiga lapisan: `lapisan masukan (input layer)`, `lapisan tersembunyi (hidden layer)`, dan `lapisan keluaran (output layer)`. Jaringan saraf dapat memanfaatkan kumpulan data berlabel (pembelajaran yang diawasi) tetapi juga dapat bekerja dengan data mentah yang tidak terstruktur (pembelajaran tak terawasi). Pembelajaran Mendalam mengacu pada kedalaman lapisan dalam jaringan saraf. Jaringan saraf yang terdiri dari lebih dari tiga lapisan (termasuk lapisan masukan dan keluaran) dapat dianggap sebagai algoritma pembelajaran mendalam.\n"
   ]
  },
  {
   "cell_type": "markdown",
   "metadata": {},
   "source": [
    "#### "
   ]
  },
  {
   "cell_type": "markdown",
   "metadata": {},
   "source": [
    "Algoritma dalam  Deep Learning yaitu:\n",
    "* `Convolutional Neural Networks (CNNs)`\n",
    "* `Recurrent Neural Networks (RNNs)`\n",
    "* `Multilayer Perceptrons (MLPs)`\n",
    "* `Self Organizing Maps (SOMs)`"
   ]
  },
  {
   "cell_type": "markdown",
   "metadata": {},
   "source": [
    "<br>"
   ]
  },
  {
   "cell_type": "markdown",
   "metadata": {},
   "source": [
    "<br>"
   ]
  },
  {
   "cell_type": "markdown",
   "metadata": {},
   "source": [
    "## Persiapan data (Data Preprocessing)"
   ]
  },
  {
   "cell_type": "markdown",
   "metadata": {},
   "source": [
    "Persiapan data, termasuk pembersihan dan pra-pemrosesan, seringkali merupakan aspek yang paling banyak memakan waktu. Data adalah faktor mendasar dalam pembelajaran mesin yang dapat memengaruhi performa model, kestabilan data, kehandalan dan skalabilitas sistem ML Anda. Sehingga hasil model Anda bergantung pada keakuratan data masukan. Data mentah tidak dapat digunakan  secara langsung secara umum pada algoritma Pembelajaran Mesin. Oleh karena itu dilakukan pemrosesan awal data\n",
    "\n",
    "Tahapan praproses data khususnya untuk **pengamatan bumi** adalah:\n",
    "* **Pelabelan Data (Data labelling)**: ini seringkali merupakan proses manual yang sangat memakan waktu dan diperlukan sekali dalam algoritma pembelajaran yang diawasi. Anda memilih titik data atau gambar secara manual dan memberinya label (atau kelas). Algoritme Pembelajaran Mesin menggunakan informasi berlabel untuk memprediksi label data yang tidak diketahui.\n",
    "\n",
    "* **One-hot encoding dari  label**: adalah cara umum untuk melakukan pra-pemrosesan fitur kategorikal untuk Pembelajaran Mesin. Label direpresentasikan sebagai nomor kelas, mis. 0 hingga 2. Dalam proses pengkodean one-hot, nomor kelas dikonversi ke representasi biner untuk menghindari algoritma mengasumsikan segala jenis hierarki intrinsik atau urutan nomor..\n",
    "\n",
    "\n",
    "* **Geo-referencing dan subsetting**: tergantung pada input data yang Anda miliki, langkah ini mungkin diperlukan agar citra satelit dapat memasukkannya ke dalam grid umum.\n",
    "\n",
    "\n",
    "* **Resampling**: langkah ini diperlukan jika data masukan Anda memiliki resolusi spasial atau temporal yang berbeda. Dalam pengambilan sampel ulang, Anda membawa semua data masukan ke resolusi spasial/temporal yang sama.\n",
    "\n",
    "* **Rearranging dan  reshaping**: ini adalah langkah yang secara khusus diperlukan dalam Pembelajaran Mesin dengan data Observasi Bumi, karena data tersebut bersifat multidimensi. Dalam operasi ini, Anda membentuk ulang struktur data asli menjadi struktur yang sesuai untuk algoritma pembelajaran Mesin.\n",
    "\n",
    "\n",
    "* **Normalisasi** adalah langkah pra-pemrosesan umum dalam Pembelajaran Mesin untuk membawa variabel yang diukur dalam satuan berbeda ke skala yang sama. Fungsi normalisasi yang umum adalah mis. `minmax` atau `rata-rata_std`. `minmax` menormalkan data berdasarkan nilai minimum dan maksimum data dan `mean_std` menggunakan *mean* dan *standar deviasi* untuk menormalkan data.\n",
    "  \n",
    "* **Reduksi Dimensi**: jika data input Anda besar, Anda dapat menerapkan mis. algoritma pengelompokan untuk mengurangi jumlah data input. Dengan cara ini Anda juga mengurangi redundansi dan kolinearitas\n",
    ".\n"
   ]
  },
  {
   "cell_type": "markdown",
   "metadata": {},
   "source": [
    "<br>"
   ]
  },
  {
   "cell_type": "markdown",
   "metadata": {},
   "source": [
    "## <a id=''></a>3. Perancangan, Pelatihan and Pengujian Model"
   ]
  },
  {
   "cell_type": "markdown",
   "metadata": {},
   "source": [
    "ASetelah pra-pemrosesan data, Anda dapat mulai dengan membuat model Machine Learning. Langkah pertama adalah membagi data Anda menjadi data pelatihan, validasi, dan pengujian diikuti dengan membangun model dengan menentukan sekumpulan hyperparameter. Setelah itu, Anda melatih model tersebut\n",
    "\n",
    "### Membagi Data\n",
    "Langkah pertama adalah mendefinisikan variabel input (X) dan output (y):\n",
    "* **Variabel Input (X)**: variabel input sering disebut sebagai `X` dan merupakan variabel/parameter yang Anda berikan ke model ML sebagai masukan.\n",
    "* **Variabel Output(y)**: variabel output sering disebut dengan variabel `y` adalah is variabel atau parameter yang akan diprediksi dengan model Machine Learning.\n",
    "<br>\n",
    "\n",
    "\n",
    "Langkah selanjutnya adalah membagi variabel input dan output menjadi dua atau tiga subset: * **Data pelatihan**: data pelatihan digunakan untuk melatih model dan proporsinya selalu lebih besar (misalnya 70% atau 80%) dibandingkan dengan data validasi dan pengujian. * **Data pengujian**: data pengujian adalah bagian dari data *dengan proporsi lebih kecil (misalnya 20%) yang digunakan untuk menilai performa model yang sudah dilatih\n",
    "\n",
    "Alternatifnya, Anda dapat membagi kumpulan data pelatihan dan menggunakan proporsi cross validation. * **Data validasi**: data validasi terutama digunakan untuk menghitung kemampuan model pembelajaran mesin selama proses pelatihan, yang dapat digunakan untuk  membantu menyempurnakan hyperparameter.\n",
    "\n",
    "\n",
    "\n",
    "\n",
    "Fungsi scikit-learn's <a href='https://scikit-learn.org/stable/modules/generated/sklearn.model_selection.train_test_split.html' target='_blank'>train_test_split</a> adalah fungsi umum yang digunakan untuk membagi data pelatihan , validasi dan pengujian.\n",
    "\n",
    "<br>\n",
    "\n",
    "### Membangun model\n",
    "Langkah selanjutnya adalah membangun model Machine Learning. Proses ini melibatkan penentuan arsitektur model dan sekumpulan `hiperparameter`. Hyperparameter digunakan untuk menyempurnakan keakuratan model Machine Learning Anda.\n",
    "\n",
    "\n",
    "Hyperparameter dibagi menjadi `model hyperparameters` dan `algorithm hyperparameters`:\n",
    "* **model hyperpararmeters**: yang mempengaruhi  performansi  model, hyperparameter tidak dapat diubah ketika penyesuaian model pada data pelatihan\n",
    "* **algorithm hyperparameters**: mereka tidak berpengaruh terhadap kinerja model tetapi mempengaruhi kecepatan dan kualitas proses pembelajaran. Contohnya adalah `kecepatan pembelajaran` atau `batch size`\n",
    "\n",
    "\n",
    "<br>\n",
    "\n",
    "### Fitting (training) the model\n",
    "The last step is the training process. During the training process, the defined model is *fitted* to the training data during multiple training cycles (called `epochs`). After each iteration step, the results are validated / tested against the validation or test dataset. This step helps to assess and evaluate the model accuracy during the training process. \n",
    "\n",
    "Some algorithms also allow for setting an early stopping hyperparameter. This parameter would stop the training process, if after a given number of epochs / training cycles the model accuracy has not improved.\n"
   ]
  },
  {
   "cell_type": "markdown",
   "metadata": {},
   "source": [
    "<br>"
   ]
  },
  {
   "cell_type": "markdown",
   "metadata": {},
   "source": [
    "## <a id='model_evaluation'></a>4. Model evaluation"
   ]
  },
  {
   "cell_type": "markdown",
   "metadata": {},
   "source": [
    "Setelah model  dilatih, kita ingin mengetahui performa dan akurasi model. Oleh karena ini, evaluasi model yang dilatih merupakan langkah penting. Selanjutnya, kita akan menyajikan pilihan metrik evaluasi umum untuk Machine Learning.\n",
    "\n",
    "**Catatan:** Kami tidak memberikan daftar lengkap metrik evaluasi yang memungkinkan, tetapi daftar metrik yang digunakan dalam kursus dapat dilihat pada <a href='https://scikit-learn.org/stable/modules/model_evaluation.html' target='_blank'>dokumentasi metrik dan API penilaian scikit-learn</a> untuk mendapatkan gambaran umum  tentang metrik evaluasi umum untuk berbagai kategori Machine Learning.\n",
    "\n",
    "**Ukuran evaluasi model secara umum:**\n",
    "\n",
    "* **Mean Absolute Error (MAE)**: Mean Absolute Error adalah rata-rata selisih antara nilai asli dan nilai prediksi. MAE menunjukkan seberapa jauh prediksi dibandingkan dengan nilai aktual, tetapi tidak memberikan informasi apa pun tentang gambaran kesalahan. Misalnya, jika model tersebut kurang atau bagus memprediksi.\n",
    "\n",
    "* **Root Mean Squared Error (RMSE) dan Normalized Root Mean Squared Error (nRMSE)**: RMSE dan nRMSE adalah cara standar untuk mengukur kesalahan suatu model. RMSE sering digunakan untuk mengevaluasi model yang telah dilatih untuk mengetahui kegunaan/akurasinya.\n",
    "\n",
    "* **Koefisien Korelasi Pearson**: Koefisien Korelasi Pearson adalah ukuran kekuatan hubungan linear antara dua variabel (aktual vs. prediksi).\n",
    "\n",
    "<br>\n",
    "\n",
    "**Metrik khusus untuk masalah klasifikasi:**\n",
    "* **Skor Akurasi Keseluruhan**: Akurasi adalah rasio jumlah prediksi yang benar terhadap jumlah total sampel data uji.\n",
    "\n",
    "* **Confusion Matrix**: Confusion Matrix adalah matriks yang menggambarkan kinerja lengkap model. Setiap baris matriks mewakili kelas aktual dan setiap kolom mewakili kelas prediksi - atau sebaliknya. Matriks memungkinkan Anda untuk mengukur akurasi klasifikasi  - seberapa banyak informasi yang telah diklasifikasikan dengan benar dan seberapa banyak informasi yang belum diklasifikasikan dengan benar. Matriks dapat diberikan sebagai tabel atau sebagai keluaran grafis.\n",
    "\n",
    "* **Recall (Sensitivitas)**: Recall adalah jumlah hasil positif yang benar dibagi dengan jumlah semua sampel yang relevan. Semakin tinggi Recall semakin baik.\n",
    "\n",
    "* **Presisi (Nilai prediktif positif)**: Presisi adalah jumlah hasil positif yang benar dibagi dengan jumlah hasil positif yang diprediksi oleh pengklasifikasi. Semakin tinggi Presisi semakin baik.\n",
    "\n",
    "* **Skor F1**: skor F1 membantu mengukur metrik *Recall* dan *Presisi* secara bersamaan dan merupakan rata-rata harmonik dari kedua metrik. Skor F1 dapat berada di antara 0 dan 1,0.\n",
    "\n",
    "* **Spesifisitas (Nilai Negatif Sejati)**: Spesifisitas adalah jumlah hasil negatif yang benar dibagi dengan jumlah semua sampel yang relevan.\n",
    "\n",
    "\n"
   ]
  },
  {
   "cell_type": "markdown",
   "metadata": {},
   "source": [
    "<br>"
   ]
  },
  {
   "cell_type": "markdown",
   "metadata": {},
   "source": [
    "## <a id='inference'></a> 5. Menerapkan model ML yang terlatih untuk membuat prediksi"
   ]
  },
  {
   "cell_type": "markdown",
   "metadata": {},
   "source": [
    "**Inference** adalah proses penerapan model Machine Learning yang telah dilatih ke data baru untuk membuat prediksi. Secara logika, inferensi adalah langkah terakhir dari alur kerja Machine Learning, karena inferensi tidak dapat terjadi tanpa langkah-langkah sebelumnya.."
   ]
  },
  {
   "cell_type": "markdown",
   "metadata": {},
   "source": [
    "*referensi : https://github.com/wekeo/ai4EM_MOOC/tree/main/2_ai4eo/2C_Understanding_ML_workflows*"
   ]
  }
 ],
 "metadata": {
  "author": "Julia Wagemann",
  "description": "This notebook provides you an overview of the individual steps of a Machine Learning workflow.",
  "image": "./img/img_01.png",
  "kernelspec": {
   "display_name": "Python 3 (ipykernel)",
   "language": "python",
   "name": "python3"
  },
  "language_info": {
   "codemirror_mode": {
    "name": "ipython",
    "version": 3
   },
   "file_extension": ".py",
   "mimetype": "text/x-python",
   "name": "python",
   "nbconvert_exporter": "python",
   "pygments_lexer": "ipython3",
   "version": "3.11.10"
  },
  "services": {
   "wekeo": {
    "git": {
     "link": "https://github.com/wekeo/ai4EM_MOOC/blob/main/2_ai4eo/2C_Understanding_ML_workflows/2C_Understanding_Machine_Learning_Workflows.ipynb",
     "service_contact": "support@wekeo.eu",
     "service_provider": "WEKEO"
    },
    "jupyter": {
     "link": "https://jupyterhub-wekeo.apps.eumetsat.dpi.wekeo.eu/hub/user-redirect/lab/tree/public/ML/2_ai4eo/2C_Understanding_ML_workflows/2C_Understanding_Machine_Learning_Workflows.ipynb",
     "service_contact": "support@wekeo.eu",
     "service_provider": "WEKEO"
    }
   }
  },
  "tags": {
   "domain": "Machine Learning"
  },
  "title": "Understanding Machine Learning Workflows"
 },
 "nbformat": 4,
 "nbformat_minor": 4
}
