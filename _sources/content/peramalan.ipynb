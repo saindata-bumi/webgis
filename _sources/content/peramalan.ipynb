{
 "cells": [
  {
   "cell_type": "code",
   "execution_count": null,
   "metadata": {
    "id": "7rj5A8UbBXX0"
   },
   "outputs": [],
   "source": []
  },
  {
   "cell_type": "markdown",
   "metadata": {
    "id": "UDH5qaicBbTC"
   },
   "source": [
    "\n",
    "## Peramalan  Deret Berkala (Time Series)\n",
    "\n",
    "Deret waktu adalah dereta data data yang disusun secara berurutan dan diberi jangka waktu atauinterval yang sama atau tidak beraturan. Proses peramalan terdiri dari memprediksi nilai masa yang akan datang, baik dengan memodelkan deret tersebut berdasarkan perilaku masa lalunya (autoregresif) atau dengan memasukkan variabel eksternal(exogen) lainnya.\n",
    "\n",
    "\n",
    "![Alt text](https://skforecast.org/0.13.0/img/forecasting_multi-step_en.gif \"a Data deret Berkala\")\n",
    "\n",
    "<p style=\"text-align:center;\">Data Deret Berkala</p>\n",
    "\n",
    "Sumber (https://skforecast.org/0.13.0/introduction-forecasting/introduction-forecasting)\n",
    "\n",
    "## Pembelarajan Mesin Peramalan\n",
    "Untuk menerapkan model pembelajaran mesin pada  peramalan, deret waktu perlu diubah menjadi matriks di mana setiap nilai dikaitkan dengan window waktu tertentu (dikenal sebagai jeda) yang mendahuluinya. Dalam konteks deret waktu, lag terkait dengan langkah waktu t didefinisikan sebagai nilai deret pada time step sebelumnya. Misalnya, lag 1 menyatakan nilai pada time step $t-1$, sedangkan lag $m$ menyatakan nilai pada time step $t-m$.\n",
    "\n",
    "Transformasi ini penting bagi model pembelajaran mesin untuk mengungkap ketergantungan dan pola antara nilai masa lalu dan masa depan dalam deret waktu. Dengan menggunakan lag sebagai fitur input, model pembelajaran mesin dapat belajar dari masa lalu dan membuat prediksi nilai yang akan datang. Jumlah lag yang digunakan sebagai fitur input dalam matriks merupakan **hyperparameter** penting yang perlu setting  secara hati-hati untuk mendapatkan kinerja model peramalan terbaik.\n",
    "\n",
    "\n",
    "![Alt text](\n",
    "https://skforecast.org/0.13.0/img/transform_timeseries.gif \"a Data deret Berkala\")\n",
    "\n",
    "<p style=\"text-align:center;\">Gambar Transformasi deret waktu menjadi matriks 5 lag dan vektor dengan nilai deret yang mengikuti setiap baris matriks</p>\n",
    "\n",
    "Jenis transformasi ini juga memungkinkan untuk memasukkan variabel tambahan.\n",
    "\n",
    "\n",
    "![Alt text](\n",
    "https://skforecast.org/0.13.0/img/matrix_transformation_with_exog_variable.png\n",
    " \"a Data deret Berkala\")\n",
    "\n",
    "<p style=\"text-align:center;\">Gambar. Transformasi deret waktu termasuk variabel eksogen</p>"
   ]
  },
  {
   "cell_type": "markdown",
   "metadata": {
    "id": "vsImR-P7Kd6o"
   },
   "source": [
    "Setelah data disusun ulang ke dalam bentuk matrik (tabel), model regresi dapat dilatih untuk memprediksi nilai (step) berikutnya dari rangkaian tersebut. Selama pelatihan model, setiap baris dianggap sebagai sample data terpisah, di mana nilai pada lag 1, 2, ... p dianggap sebagai prediktor untuk kuantitas target deret  waktu pada langkah waktu p+1.\n",
    "\n",
    "![Alt text](\n",
    "https://skforecast.org/0.13.0/img/diagram-trainig-forecaster.png\n",
    " \"a Data deret Berkala\")\n",
    "\n",
    " Gambaar. Diagram of training a machine learning model with time series data.\n",
    "\n",
    "\n"
   ]
  },
  {
   "cell_type": "markdown",
   "metadata": {
    "id": "nfhF3BI7PbSu"
   },
   "source": [
    "## Peramalan single step\n",
    "Peramalan single step digunakan ketika tujuannya  untuk meramalkan hanya satu nilai berikutnya dari deret data  tersebut.\n",
    "\n",
    "![Alt text](\n",
    "https://skforecast.org/0.13.0/img/diagram-single-step-forecasting.png\n",
    " \"a Data deret Berkala\")\n"
   ]
  },
  {
   "cell_type": "markdown",
   "metadata": {
    "id": "mYtHYc1oQJQm"
   },
   "source": [
    "## Peramalan Multi-step\n",
    "Saat bekerja dengan deret waktu, jarang untuk memprediksi hanya satu nilai berikutnya dalam deret $(t+1)$. Sebaliknya, tujuan yang paling umum adalah untuk memprediksi seluruh interval masa depan $(t+1, \\dots t+n)$ atau titik waktu yang jauh $(t+n)$. Beberapa strategi memungkinkan pembuatan jenis prediksi ini.\n",
    "\n",
    "### Recursive multi-step forecasting\n",
    "Karena nilai $t(n-1)$ diperlukan untuk memprediksi $t(n)$, dan $t(n-1)$ tidak diketahui, proses rekursif diterapkan di mana, setiap prediksi baru, didasarkan pada prediksi sebelumnya. Proses ini dikenal sebagai peramalan rekursif atau peramalan multi-langkah rekursif dan dapat dengan mudah dibuat dengan kelas ForecasterAutoreg dan ForecasterAutoregCustom.\n",
    "\n",
    "![Alt text](https://skforecast.org/0.13.0/img/diagram-recursive-mutistep-forecasting.png\n",
    " \"a Data deret Berkala\")\n",
    "\n",
    "Gambar. Diagram  recursive multi-step forecasting"
   ]
  },
  {
   "cell_type": "markdown",
   "metadata": {
    "id": "4wsilusJXVF_"
   },
   "source": [
    "### Peramalan *Direct multi-step*\n",
    "Peramalan Direct multi-step yaitu melakukan pelatihan model yang berbeda untuk setiap step dari horizon prakiraan. Misalnya, untuk memprediksi 5 nilai yang akan datang  dari deret waktu, 5 model yang berbeda dilatih, satu untuk setiap langkah. Hasilnya, prediksi tersebut bersifat independen satu sama lain. Seluruh proses ini diotomatisasi dalam kelas ForecasterAutoregDirect.\n",
    "\n",
    "\n",
    "\n",
    "![Alt text](https://skforecast.org/0.13.0/img/diagram-direct-multi-step-forecasting.png\n",
    " \"a Data deret Berkala\")\n",
    "\n",
    " Gambar Diagram  direct multi-step forecasting.\n",
    "\n",
    "\n",
    "## Peramalan Multi Output\n",
    "Beberapa model pembelajaran mesin, seperti Long Short Time Memory(LSTM), dapat memprediksi beberapa nilai time series secara bersamaan.\n",
    "\n",
    "## Model peramalan global\n",
    "Peramalan deret waktu univariat memodelkan deret waktu tunggal sebagai kombinasi linier atau nonlinier dari lag-lagnya, dengan menggunakan nilai-nilai masa lalu deret tersebut untuk memprediksi nilai yang akan datang. Peramalan global memodelkan model prediktif yang mempertimbangkan semua deret waktu secara bersamaan. Model ini  menangkap pola inti yang mengatur deret tersebut, dengan demikian mengurangi potensi gangguan yang mungkin ditimbulkan oleh setiap deret. Pendekatan ini efisien secara komputasi, dan dapat menghasilkan generalisasi yang lebih kuat di seluruh deret waktu. Ada dua strategi berbeda untuk peramalan global.\n",
    "\n",
    "\n",
    "### Peramalan Multi-Seri yang Independen\n",
    "Satu model tunggal dilatih untuk  deret waktu tertentu, tetapi setiap deret waktu tetap independen dari yang lain, yang berarti bahwa nilai masa lalu dari satu deret tidak digunakan sebagai prediktor deret lainnya. Namun, memodelkannya bersama-sama berguna karena deret tersebut dapat mengikuti pola intrinsik yang sama mengenai nilai masa lalu dan masa depan mereka. Misalnya, penjualan produk A dan B di toko yang sama mungkin tidak terkait, tetapi mereka mengikuti dinamika yang sama, yaitu dinamika toko.\n",
    "\n",
    "![Alt text](https://skforecast.org/0.13.0/img/forecaster_multi_series_train_matrix_diagram.png\n",
    " \"a Data deret Berkala\")\n",
    "\n",
    "\n",
    "Gambar. Transformasi dua deret waktu dan variabel eksogen menjadi matriks yang diperlukan untuk melatih model pembelajaran mesin dalam konteks multi-seri.\n",
    "\n",
    "Untuk memprediksi n step berikutnya, strategi peramalan multi-step rekursif diterapkan\n",
    "\n",
    "\n",
    "![Alt text](https://skforecast.org/0.13.0/img/forecaster_multi_series_prediction_diagram.png\n",
    " \"a Data deret Berkala\")\n",
    "\n",
    "\n"
   ]
  },
  {
   "cell_type": "markdown",
   "metadata": {
    "id": "JC8ZmDJ_W-NW"
   },
   "source": [
    "###Peramalan Multi-Seri dependent (multivariate time series)\n",
    "\n",
    "Semua data deret berkala  dimodelkan bersama dalam satu model, dengan mempertimbangkan bahwa setiap deret berkala bergantung tidak hanya pada nilai masa lalunya tetapi juga pada nilai masa lalu dari seri lainnya. Peramal diharapkan tidak hanya mempelajari informasi dari setiap seri secara terpisah tetapi juga menghubungkannya. Contohnya adalah pengukuran yang dilakukan oleh semua sensor (aliran, suhu, tekanan...) yang dipasang pada mesin industri seperti kompresor.\n",
    "\n",
    "\n",
    "![Alt text](\n",
    "https://skforecast.org/0.13.0/img/forecaster_multivariate_train_matrix_diagram.png\n",
    " \"a Data deret Berkala\")"
   ]
  }
 ],
 "metadata": {
  "colab": {
   "provenance": []
  },
  "kernelspec": {
   "display_name": "Python 3 (ipykernel)",
   "language": "python",
   "name": "python3"
  },
  "language_info": {
   "codemirror_mode": {
    "name": "ipython",
    "version": 3
   },
   "file_extension": ".py",
   "mimetype": "text/x-python",
   "name": "python",
   "nbconvert_exporter": "python",
   "pygments_lexer": "ipython3",
   "version": "3.11.11"
  }
 },
 "nbformat": 4,
 "nbformat_minor": 4
}
