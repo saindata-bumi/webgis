{
 "cells": [
  {
   "cell_type": "markdown",
   "metadata": {},
   "source": [
    "# Peramalan Recursive multi-step "
   ]
  },
  {
   "cell_type": "markdown",
   "metadata": {},
   "source": [
    "## Latar Belakang\n",
    "\n",
    "Peramalan multi-step rekursif mengggunaan nilai-nilai dari hasil prediksi dari langkah-langkah waktu sebelumnya sebagai masukan untuk meramalkan nilai-nilai  waktu berikutnya. Model awalnya memprediksi satu langkah ke depan dan kemudian menggunakan ramalan itu sebagai masukan untuk langkah waktu berikutnya, proses ini terus diulang ini sampai dengan k langkah yang ditentukan\n",
    "Untuk memperjelas, karena nilai $t_{n-1}$ diperlukan untuk memprediksi $t_n$, dan $t_{n-1}$ tidak diketahui, maka diterapkan proses rekursif, di mana setiap prediksi baru didasarkan pada prediksi sebelumnya.\n",
    "\n",
    "\n",
    "![Alt text](https://skforecast.org/0.9.1/img/diagram-recursive-mutistep-forecasting.png \"a Data deret Berkala\")\n",
    "\n",
    "Gambar. peramalan recursive multi-step forecasting."
   ]
  },
  {
   "cell_type": "markdown",
   "metadata": {},
   "source": [
    "Saat menggunakan model pembelajaran mesin untuk peramalan multi-step rekursif, salah satu tantangan utamanya adalah mengubah data deret waktu menjadi format matriks yang menghubungkan setiap nilai  dengan nilai nilai sebelumnya (lag). Proses ini butuh rekayasa fitur yang cermat untuk memastikan model dapat secara akurat menangkap pola yang mendasari dalam data\n",
    "\n",
    "![Alt text](https://skforecast.org/0.9.1/img/matrix_transformation_with_exog_variable.png \"a Data deret Berkala\")\n"
   ]
  },
  {
   "cell_type": "markdown",
   "metadata": {},
   "source": [
    "Dengan menggunakan kelas ForecasterAutoreg dan ForecasterAutoregCustom, model pembelajaran mesin untuk peramalan multi-step rekursif dapat dibangun dengan mudah. Kelas-kelas ini dapat secara otomatis mengubah data deret waktu menjadi format matriks yang sesuai sebagai input ke algoritma pembelajaran mesin, dan menyediakan berbagai pilihan untuk mengatur parameter model guna mencapai kinerja terbaik.\n"
   ]
  },
  {
   "cell_type": "markdown",
   "metadata": {},
   "source": [
    "Library yang diperlukan  adalah skforecast. Sehingga perlu diinstalasi"
   ]
  },
  {
   "cell_type": "code",
   "execution_count": 44,
   "metadata": {},
   "outputs": [],
   "source": [
    "%%capture\n",
    "!pip install skforecast"
   ]
  },
  {
   "cell_type": "code",
   "execution_count": 45,
   "metadata": {},
   "outputs": [],
   "source": [
    "# Libraries\n",
    "# ==============================================================================\n",
    "import pandas as pd\n",
    "import matplotlib.pyplot as plt\n",
    "from skforecast.ForecasterAutoreg import ForecasterAutoreg\n",
    "from sklearn.ensemble import RandomForestRegressor\n",
    "from sklearn.metrics import mean_squared_error\n",
    "from sklearn.metrics import mean_absolute_percentage_error\n",
    "from sklearn.metrics import root_mean_squared_error"
   ]
  },
  {
   "cell_type": "code",
   "execution_count": 46,
   "metadata": {},
   "outputs": [],
   "source": [
    "url = (\n",
    "    'https://raw.githubusercontent.com/saindata-bumi/webgis/refs/heads/main/datafull.csv'\n",
    ")\n",
    "data = pd.read_csv(url, sep=',', header=0, names=['waktu', 'SO2'])\n",
    "data = data.set_index('waktu')\n"
   ]
  },
  {
   "cell_type": "code",
   "execution_count": 47,
   "metadata": {},
   "outputs": [
    {
     "data": {
      "text/plain": [
       "1635"
      ]
     },
     "execution_count": 47,
     "metadata": {},
     "output_type": "execute_result"
    }
   ],
   "source": [
    "len(data)"
   ]
  },
  {
   "cell_type": "code",
   "execution_count": 4,
   "metadata": {},
   "outputs": [],
   "source": [
    "\n",
    "data = data.asfreq('D')\n"
   ]
  },
  {
   "cell_type": "code",
   "execution_count": 12,
   "metadata": {},
   "outputs": [],
   "source": [
    "# Download data\n",
    "# ==============================================================================\n",
    "url = (\n",
    "    'https://raw.githubusercontent.com/saindata-bumi/webgis/refs/heads/main/datafull.csv'\n",
    ")\n",
    "data = pd.read_csv(url, sep=',', header=0, names=['waktu', 'SO2'])\n",
    "\n",
    "\n",
    "# Data preprocessing\n",
    "# ==============================================================================\n",
    "data['waktu'] = pd.to_datetime(data['waktu'], format='%Y-%m-%d')\n",
    "data = data.set_index('waktu')\n",
    "#data = data.asfreq('MS')\n",
    "data = data['SO2']\n",
    "data = data.sort_index()\n",
    "\n",
    "# Split train-test\n",
    "# ==============================================================================\n",
    "# ==============================================================================\n",
    "steps = 3\n",
    "data_train = data[:-steps]\n",
    "data_test  = data[-steps:]\n",
    "\n",
    "# Plot\n",
    "# ==============================================================================\n",
    "#fig, ax = plt.subplots(figsize=(6, 3))\n",
    "#data_train.plot(ax=ax, label='train')\n",
    "#data_test.plot(ax=ax, label='test')\n",
    "#ax.legend();"
   ]
  },
  {
   "cell_type": "code",
   "execution_count": 13,
   "metadata": {},
   "outputs": [],
   "source": [
    "# Plot predictions\n",
    "# ==============================================================================\n"
   ]
  },
  {
   "cell_type": "code",
   "execution_count": 43,
   "metadata": {},
   "outputs": [
    {
     "name": "stdout",
     "output_type": "stream",
     "text": [
      "Test error (rmse): 6.506386853578388\n"
     ]
    }
   ],
   "source": [
    "import warnings\n",
    "warnings.filterwarnings(\"ignore\")\n",
    "from skforecast.ForecasterAutoregDirect import ForecasterAutoregDirect\n",
    "from xgboost import XGBRegressor\n",
    "from sklearn.ensemble import RandomForestRegressor\n",
    "from sklearn import linear_model\n",
    "from sklearn.tree import DecisionTreeRegressor\n",
    "from sklearn import svm\n",
    "from sklearn.linear_model import Ridge\n",
    "import matplotlib.pyplot as plt\n",
    "\n",
    "# Initialize the forecaster\n",
    "forecaster = ForecasterAutoregDirect(\n",
    "    regressor=svm.SVR(),\n",
    "    steps=3,\n",
    "    lags=1,\n",
    "    transformer_y=None,\n",
    "    n_jobs='auto'\n",
    ")\n",
    "\n",
    "# Fit the model\n",
    "forecaster.fit(y=data_train)\n",
    "\n",
    "# Make predictions\n",
    "predictions = forecaster.predict()\n",
    "\n",
    "error_mse = root_mean_squared_error(\n",
    "                y_true = data_test,\n",
    "                y_pred = predictions\n",
    "            )\n",
    "print(f\"Test error (rmse): {error_mse}\")# Display the first 3 predictions\n",
    "\n",
    "\n",
    "# Plot the results\n",
    "\n"
   ]
  },
  {
   "cell_type": "markdown",
   "metadata": {},
   "source": [
    "# Model SVR"
   ]
  },
  {
   "cell_type": "code",
   "execution_count": 28,
   "metadata": {},
   "outputs": [],
   "source": [
    "from sklearn import svm\n",
    "forecaster = ForecasterAutoreg(\n",
    "                 regressor = svm.SVR(),\n",
    "                 lags      = 20\n",
    "             )\n",
    "\n",
    "forecaster.fit(y=data_train)"
   ]
  },
  {
   "cell_type": "code",
   "execution_count": 29,
   "metadata": {},
   "outputs": [
    {
     "name": "stdout",
     "output_type": "stream",
     "text": [
      "Test error (rmse): 2.9779832983428274\n",
      "Test error (mape): 2.8843840050626524\n"
     ]
    },
    {
     "data": {
      "image/png": "[encoded data removed]",
      "text/plain": [
       "<Figure size 600x300 with 1 Axes>"
      ]
     },
     "metadata": {},
     "output_type": "display_data"
    }
   ],
   "source": [
    "predictions = forecaster.predict(steps=20)\n",
    "fig, ax = plt.subplots(figsize=(6, 3))\n",
    "data_train.plot(ax=ax, label='train')\n",
    "data_test.plot(ax=ax, label='test')\n",
    "predictions.plot(ax=ax, label='predictions')\n",
    "ax.legend();\n",
    "error_mse = root_mean_squared_error(\n",
    "                y_true = data_test,\n",
    "                y_pred = predictions\n",
    "            )\n",
    "print(f\"Test error (rmse): {error_mse}\")\n",
    "mape=mean_absolute_percentage_error(\n",
    "                y_true = data_test,\n",
    "                y_pred = predictions\n",
    "            )\n",
    "print(f\"Test error (mape): {mape}\")"
   ]
  },
  {
   "cell_type": "code",
   "execution_count": 33,
   "metadata": {},
   "outputs": [
    {
     "data": {
      "text/plain": [
       "datetime\n",
       "2021-12-01    2.050\n",
       "2022-01-01    1.787\n",
       "2022-02-01   -1.992\n",
       "2022-03-01    2.670\n",
       "2022-04-01    1.916\n",
       "2022-05-01    0.507\n",
       "2022-06-01    3.007\n",
       "2022-07-01    5.653\n",
       "2022-08-01    6.196\n",
       "2022-09-01    1.488\n",
       "2022-10-01    2.108\n",
       "2022-11-01    1.764\n",
       "2022-12-01   -0.606\n",
       "2023-01-01    2.887\n",
       "Freq: MS, Name: y, dtype: float64"
      ]
     },
     "execution_count": 33,
     "metadata": {},
     "output_type": "execute_result"
    }
   ],
   "source": [
    "y_train\n"
   ]
  },
  {
   "cell_type": "code",
   "execution_count": 45,
   "metadata": {},
   "outputs": [
    {
     "data": {
      "text/plain": [
       "3"
      ]
     },
     "execution_count": 45,
     "metadata": {},
     "output_type": "execute_result"
    }
   ],
   "source": [
    "len(data_train)\n"
   ]
  },
  {
   "cell_type": "code",
   "execution_count": 44,
   "metadata": {},
   "outputs": [
    {
     "ename": "ValueError",
     "evalue": "Minimum length of `y` for training this forecaster is 51. Got 3. Reduce the number of predicted steps, 36, or the maximum lag, 15, if no more data is available.",
     "output_type": "error",
     "traceback": [
      "\u001b[0;31m---------------------------------------------------------------------------\u001b[0m",
      "\u001b[0;31mValueError\u001b[0m                                Traceback (most recent call last)",
      "Cell \u001b[0;32mIn[44], line 13\u001b[0m\n\u001b[1;32m      4\u001b[0m \u001b[38;5;66;03m# ==============================================================================\u001b[39;00m\n\u001b[1;32m      5\u001b[0m forecaster \u001b[38;5;241m=\u001b[39m ForecasterAutoregDirect(\n\u001b[1;32m      6\u001b[0m                  regressor     \u001b[38;5;241m=\u001b[39m Ridge(),\n\u001b[1;32m      7\u001b[0m                  steps         \u001b[38;5;241m=\u001b[39m \u001b[38;5;241m36\u001b[39m,\n\u001b[0;32m   (...)\u001b[0m\n\u001b[1;32m     10\u001b[0m                  n_jobs        \u001b[38;5;241m=\u001b[39m \u001b[38;5;124m'\u001b[39m\u001b[38;5;124mauto\u001b[39m\u001b[38;5;124m'\u001b[39m\n\u001b[1;32m     11\u001b[0m              )\n\u001b[0;32m---> 13\u001b[0m \u001b[43mforecaster\u001b[49m\u001b[38;5;241;43m.\u001b[39;49m\u001b[43mfit\u001b[49m\u001b[43m(\u001b[49m\u001b[43my\u001b[49m\u001b[38;5;241;43m=\u001b[39;49m\u001b[43mdata_train\u001b[49m\u001b[43m)\u001b[49m\n\u001b[1;32m     14\u001b[0m forecaster\n",
      "File \u001b[0;32m/env/lib/python3.10/site-packages/skforecast/ForecasterAutoregDirect/ForecasterAutoregDirect.py:625\u001b[0m, in \u001b[0;36mForecasterAutoregDirect.fit\u001b[0;34m(self, y, exog, store_last_window, store_in_sample_residuals)\u001b[0m\n\u001b[1;32m    622\u001b[0m \u001b[38;5;28mself\u001b[39m\u001b[38;5;241m.\u001b[39mfitted              \u001b[38;5;241m=\u001b[39m \u001b[38;5;28;01mFalse\u001b[39;00m\n\u001b[1;32m    623\u001b[0m \u001b[38;5;28mself\u001b[39m\u001b[38;5;241m.\u001b[39mtraining_range      \u001b[38;5;241m=\u001b[39m \u001b[38;5;28;01mNone\u001b[39;00m\n\u001b[0;32m--> 625\u001b[0m X_train, y_train \u001b[38;5;241m=\u001b[39m \u001b[38;5;28;43mself\u001b[39;49m\u001b[38;5;241;43m.\u001b[39;49m\u001b[43mcreate_train_X_y\u001b[49m\u001b[43m(\u001b[49m\u001b[43my\u001b[49m\u001b[38;5;241;43m=\u001b[39;49m\u001b[43my\u001b[49m\u001b[43m,\u001b[49m\u001b[43m \u001b[49m\u001b[43mexog\u001b[49m\u001b[38;5;241;43m=\u001b[39;49m\u001b[43mexog\u001b[49m\u001b[43m)\u001b[49m\n\u001b[1;32m    627\u001b[0m \u001b[38;5;28;01mdef\u001b[39;00m \u001b[38;5;21mfit_forecaster\u001b[39m(regressor, X_train, y_train, step, store_in_sample_residuals):\n\u001b[1;32m    628\u001b[0m \u001b[38;5;250m    \u001b[39m\u001b[38;5;124;03m\"\"\"\u001b[39;00m\n\u001b[1;32m    629\u001b[0m \u001b[38;5;124;03m    Auxiliary function to fit each of the forecaster's regressors in parallel.\u001b[39;00m\n\u001b[1;32m    630\u001b[0m \n\u001b[0;32m   (...)\u001b[0m\n\u001b[1;32m    648\u001b[0m \n\u001b[1;32m    649\u001b[0m \u001b[38;5;124;03m    \"\"\"\u001b[39;00m\n",
      "File \u001b[0;32m/env/lib/python3.10/site-packages/skforecast/ForecasterAutoregDirect/ForecasterAutoregDirect.py:391\u001b[0m, in \u001b[0;36mForecasterAutoregDirect.create_train_X_y\u001b[0;34m(self, y, exog)\u001b[0m\n\u001b[1;32m    363\u001b[0m \u001b[38;5;250m\u001b[39m\u001b[38;5;124;03m\"\"\"\u001b[39;00m\n\u001b[1;32m    364\u001b[0m \u001b[38;5;124;03mCreate training matrices from univariate time series and exogenous\u001b[39;00m\n\u001b[1;32m    365\u001b[0m \u001b[38;5;124;03mvariables. The resulting matrices contain the target variable and predictors\u001b[39;00m\n\u001b[0;32m   (...)\u001b[0m\n\u001b[1;32m    387\u001b[0m \u001b[38;5;124;03m\u001b[39;00m\n\u001b[1;32m    388\u001b[0m \u001b[38;5;124;03m\"\"\"\u001b[39;00m\n\u001b[1;32m    390\u001b[0m \u001b[38;5;28;01mif\u001b[39;00m \u001b[38;5;28mlen\u001b[39m(y) \u001b[38;5;241m<\u001b[39m \u001b[38;5;28mself\u001b[39m\u001b[38;5;241m.\u001b[39mmax_lag \u001b[38;5;241m+\u001b[39m \u001b[38;5;28mself\u001b[39m\u001b[38;5;241m.\u001b[39msteps:\n\u001b[0;32m--> 391\u001b[0m     \u001b[38;5;28;01mraise\u001b[39;00m \u001b[38;5;167;01mValueError\u001b[39;00m(\n\u001b[1;32m    392\u001b[0m         (\u001b[38;5;124mf\u001b[39m\u001b[38;5;124m\"\u001b[39m\u001b[38;5;124mMinimum length of `y` for training this forecaster is \u001b[39m\u001b[38;5;124m\"\u001b[39m\n\u001b[1;32m    393\u001b[0m          \u001b[38;5;124mf\u001b[39m\u001b[38;5;124m\"\u001b[39m\u001b[38;5;132;01m{\u001b[39;00m\u001b[38;5;28mself\u001b[39m\u001b[38;5;241m.\u001b[39mmax_lag\u001b[38;5;250m \u001b[39m\u001b[38;5;241m+\u001b[39m\u001b[38;5;250m \u001b[39m\u001b[38;5;28mself\u001b[39m\u001b[38;5;241m.\u001b[39msteps\u001b[38;5;132;01m}\u001b[39;00m\u001b[38;5;124m. Got \u001b[39m\u001b[38;5;132;01m{\u001b[39;00m\u001b[38;5;28mlen\u001b[39m(y)\u001b[38;5;132;01m}\u001b[39;00m\u001b[38;5;124m. Reduce the \u001b[39m\u001b[38;5;124m\"\u001b[39m\n\u001b[1;32m    394\u001b[0m          \u001b[38;5;124mf\u001b[39m\u001b[38;5;124m\"\u001b[39m\u001b[38;5;124mnumber of predicted steps, \u001b[39m\u001b[38;5;132;01m{\u001b[39;00m\u001b[38;5;28mself\u001b[39m\u001b[38;5;241m.\u001b[39msteps\u001b[38;5;132;01m}\u001b[39;00m\u001b[38;5;124m, or the maximum \u001b[39m\u001b[38;5;124m\"\u001b[39m\n\u001b[1;32m    395\u001b[0m          \u001b[38;5;124mf\u001b[39m\u001b[38;5;124m\"\u001b[39m\u001b[38;5;124mlag, \u001b[39m\u001b[38;5;132;01m{\u001b[39;00m\u001b[38;5;28mself\u001b[39m\u001b[38;5;241m.\u001b[39mmax_lag\u001b[38;5;132;01m}\u001b[39;00m\u001b[38;5;124m, if no more data is available.\u001b[39m\u001b[38;5;124m\"\u001b[39m)\n\u001b[1;32m    396\u001b[0m     )\n\u001b[1;32m    398\u001b[0m check_y(y\u001b[38;5;241m=\u001b[39my)\n\u001b[1;32m    399\u001b[0m y \u001b[38;5;241m=\u001b[39m input_to_frame(data\u001b[38;5;241m=\u001b[39my, input_name\u001b[38;5;241m=\u001b[39m\u001b[38;5;124m'\u001b[39m\u001b[38;5;124my\u001b[39m\u001b[38;5;124m'\u001b[39m)\n",
      "\u001b[0;31mValueError\u001b[0m: Minimum length of `y` for training this forecaster is 51. Got 3. Reduce the number of predicted steps, 36, or the maximum lag, 15, if no more data is available."
     ]
    }
   ],
   "source": [
    "# Create and fit forecaster\n",
    "from skforecast.ForecasterAutoregDirect import ForecasterAutoregDirect\n",
    "from sklearn.linear_model import Ridge\n",
    "# ==============================================================================\n",
    "forecaster = ForecasterAutoregDirect(\n",
    "                 regressor     = Ridge(),\n",
    "                 steps         = 36,\n",
    "                 lags          = 15,\n",
    "                 transformer_y = None,\n",
    "                 n_jobs        = 'auto'\n",
    "             )\n",
    "\n",
    "forecaster.fit(y=data_train)\n",
    "forecaster"
   ]
  },
  {
   "cell_type": "code",
   "execution_count": null,
   "metadata": {},
   "outputs": [],
   "source": []
  }
 ],
 "metadata": {
  "kernelspec": {
   "display_name": "Python 3 (ipykernel)",
   "language": "python",
   "name": "python3"
  },
  "language_info": {
   "codemirror_mode": {
    "name": "ipython",
    "version": 3
   },
   "file_extension": ".py",
   "mimetype": "text/x-python",
   "name": "python",
   "nbconvert_exporter": "python",
   "pygments_lexer": "ipython3",
   "version": "3.10.15"
  },
  "widgets": {
   "application/vnd.jupyter.widget-state+json": {
    "state": {
     "03071dc25b7944c5a5e553ba7abced9f": {
      "model_module": "@jupyter-widgets/base",
      "model_module_version": "1.2.0",
      "model_name": "LayoutModel",
      "state": {
       "flex": "1 0 20em",
       "height": "3em",
       "width": "20em"
      }
     },
     "04cbdfdbbf734dae8021c5ba9a01efe6": {
      "model_module": "@jupyter-widgets/controls",
      "model_module_version": "1.5.0",
      "model_name": "HTMLModel",
      "state": {
       "layout": "IPY_MODEL_03071dc25b7944c5a5e553ba7abced9f",
       "style": "IPY_MODEL_99427a35f96045b2b7308a95a9c2fb42",
       "value": "<pre style=\"color:grey\">lat: [-34.0572, -33.8864]\nlon: [150.9570, 151.4301]</pre>"
      }
     },
     "07c38bb75e8243609a49a748f4acf1f6": {
      "model_module": "@jupyter-widgets/controls",
      "model_module_version": "1.5.0",
      "model_name": "ButtonModel",
      "state": {
       "description": "done",
       "disabled": true,
       "layout": "IPY_MODEL_6c7d3ab9ddb340179c7b8e5900d87f2d",
       "style": "IPY_MODEL_e2e5848d3a394e179877effeb959a28c"
      }
     },
     "14e271bc509146889e2d18cd3addf07a": {
      "model_module": "jupyter-leaflet",
      "model_module_version": "^0.14.0",
      "model_name": "LeafletWidgetControlModel",
      "state": {
       "_model_module": "jupyter-leaflet",
       "_model_module_version": "^0.14.0",
       "_view_count": null,
       "_view_module": "jupyter-leaflet",
       "_view_module_version": "^0.14.0",
       "options": [
        "position",
        "transparent_bg"
       ],
       "position": "topright",
       "widget": "IPY_MODEL_07c38bb75e8243609a49a748f4acf1f6"
      }
     },
     "208eb5f4b88c4624abe7b00372fff249": {
      "model_module": "jupyter-leaflet",
      "model_module_version": "^0.14.0",
      "model_name": "LeafletZoomControlModel",
      "state": {
       "_model_module_version": "^0.14.0",
       "_view_module_version": "^0.14.0",
       "options": [
        "position",
        "zoom_in_text",
        "zoom_in_title",
        "zoom_out_text",
        "zoom_out_title"
       ]
      }
     },
     "26e0e24901ba4573a37e037eda668f48": {
      "model_module": "jupyter-leaflet",
      "model_module_version": "^0.14.0",
      "model_name": "LeafletFullScreenControlModel",
      "state": {
       "_model_module_version": "^0.14.0",
       "_view_module_version": "^0.14.0",
       "options": [
        "position"
       ]
      }
     },
     "409578d0eb3d4f5cbd971d22381abb3d": {
      "model_module": "@jupyter-widgets/base",
      "model_module_version": "1.2.0",
      "model_name": "LayoutModel",
      "state": {
       "height": "600px"
      }
     },
     "44f8d335bf7f427a833b5faf6c7ff1f2": {
      "model_module": "jupyter-leaflet",
      "model_module_version": "^0.14.0",
      "model_name": "LeafletDrawControlModel",
      "state": {
       "_model_module_version": "^0.14.0",
       "_view_module_version": "^0.14.0",
       "data": [
        {
         "geometry": {
          "coordinates": [
           [
            [
             151.160545,
             -33.990013
            ],
            [
             151.160545,
             -33.940182
            ],
            [
             151.234703,
             -33.940182
            ],
            [
             151.234703,
             -33.990013
            ],
            [
             151.160545,
             -33.990013
            ]
           ]
          ],
          "type": "Polygon"
         },
         "properties": {
          "style": {
           "clickable": true,
           "color": "#000000",
           "fill": true,
           "fillColor": "#fca45d",
           "fillOpacity": 0.1,
           "opacity": 0.5,
           "stroke": true,
           "weight": 4
          }
         },
         "type": "Feature"
        }
       ],
       "options": [
        "position"
       ],
       "polygon": {
        "shapeOptions": {
         "color": "#000000",
         "editing": {
          "color": "#000000",
          "fillColor": "#fca45d",
          "fillOpacity": 0.1
         },
         "fillColor": "#fca45d",
         "fillOpacity": 0.1,
         "original": {
          "color": "#000000",
          "fillColor": "#fca45d",
          "fillOpacity": 0.1
         }
        }
       },
       "polyline": {},
       "rectangle": {
        "metric": [
         "km",
         "m"
        ],
        "shapeOptions": {
         "color": "#000000",
         "fillColor": "#fca45d",
         "fillOpacity": 0.1
        }
       }
      }
     },
     "69d7809765e344b4871f7b64249b8ffc": {
      "model_module": "jupyter-leaflet",
      "model_module_version": "^0.14.0",
      "model_name": "LeafletAttributionControlModel",
      "state": {
       "_model_module_version": "^0.14.0",
       "_view_module_version": "^0.14.0",
       "options": [
        "position",
        "prefix"
       ],
       "position": "bottomright",
       "prefix": "ipyleaflet"
      }
     },
     "6c7d3ab9ddb340179c7b8e5900d87f2d": {
      "model_module": "@jupyter-widgets/base",
      "model_module_version": "1.2.0",
      "model_name": "LayoutModel",
      "state": {
       "width": "5em"
      }
     },
     "752db91f555748d39048ab9cf9060416": {
      "model_module": "jupyter-leaflet",
      "model_module_version": "^0.14.0",
      "model_name": "LeafletTileLayerModel",
      "state": {
       "_model_module_version": "^0.14.0",
       "_view_module_version": "^0.14.0",
       "attribution": "Tiles &copy; Esri &mdash; Source: Esri, i-cubed, USDA, USGS, AEX, GeoEye, Getmapping, Aerogrid, IGN, IGP, UPR-EGP, and the GIS User Community",
       "max_native_zoom": 18,
       "max_zoom": 20,
       "min_native_zoom": 0,
       "min_zoom": 1,
       "name": "Esri.WorldImagery",
       "options": [
        "attribution",
        "detect_retina",
        "max_native_zoom",
        "max_zoom",
        "min_native_zoom",
        "min_zoom",
        "no_wrap",
        "tile_size",
        "tms"
       ],
       "url": "http://server.arcgisonline.com/ArcGIS/rest/services/World_Imagery/MapServer/tile/{z}/{y}/{x}"
      }
     },
     "876ff6aeb84b499588d3449da6eee277": {
      "model_module": "jupyter-leaflet",
      "model_module_version": "^0.14.0",
      "model_name": "LeafletMapStyleModel",
      "state": {
       "_model_module_version": "^0.14.0"
      }
     },
     "90a58f05c8e44a11acdfac66fb067dc4": {
      "model_module": "jupyter-leaflet",
      "model_module_version": "^0.14.0",
      "model_name": "LeafletMapStyleModel",
      "state": {
       "_model_module_version": "^0.14.0",
       "cursor": "move"
      }
     },
     "99427a35f96045b2b7308a95a9c2fb42": {
      "model_module": "@jupyter-widgets/controls",
      "model_module_version": "1.5.0",
      "model_name": "DescriptionStyleModel",
      "state": {
       "description_width": ""
      }
     },
     "a52fd307a2e44f969d56e82852a76cef": {
      "model_module": "jupyter-leaflet",
      "model_module_version": "^0.14.0",
      "model_name": "LeafletMapStyleModel",
      "state": {
       "_model_module_version": "^0.14.0"
      }
     },
     "af6eac08042240a69e18c7833161a044": {
      "model_module": "jupyter-leaflet",
      "model_module_version": "^0.14.0",
      "model_name": "LeafletMapModel",
      "state": {
       "_model_module_version": "^0.14.0",
       "_view_module_version": "^0.14.0",
       "bottom": 629904,
       "center": [
        -33.9719,
        151.1934
       ],
       "controls": [
        "IPY_MODEL_208eb5f4b88c4624abe7b00372fff249",
        "IPY_MODEL_69d7809765e344b4871f7b64249b8ffc",
        "IPY_MODEL_26e0e24901ba4573a37e037eda668f48"
       ],
       "default_style": "IPY_MODEL_876ff6aeb84b499588d3449da6eee277",
       "dragging_style": "IPY_MODEL_90a58f05c8e44a11acdfac66fb067dc4",
       "east": 151.43005371093753,
       "fullscreen": false,
       "interpolation": "bilinear",
       "layers": [
        "IPY_MODEL_752db91f555748d39048ab9cf9060416"
       ],
       "layout": "IPY_MODEL_409578d0eb3d4f5cbd971d22381abb3d",
       "left": 963982,
       "modisdate": "yesterday",
       "north": -33.886377470727545,
       "options": [
        "bounce_at_zoom_limits",
        "box_zoom",
        "center",
        "close_popup_on_click",
        "double_click_zoom",
        "dragging",
        "fullscreen",
        "inertia",
        "inertia_deceleration",
        "inertia_max_speed",
        "interpolation",
        "keyboard",
        "keyboard_pan_offset",
        "keyboard_zoom_offset",
        "max_zoom",
        "min_zoom",
        "scroll_wheel_zoom",
        "tap",
        "tap_tolerance",
        "touch_zoom",
        "world_copy_jump",
        "zoom",
        "zoom_animation_threshold",
        "zoom_delta",
        "zoom_snap",
        "zoom_start"
       ],
       "right": 965360,
       "scroll_wheel_zoom": true,
       "south": -34.05721051351029,
       "style": "IPY_MODEL_a52fd307a2e44f969d56e82852a76cef",
       "top": 629304,
       "west": 150.95695495605472,
       "window_url": "https://app.sandbox.dea.ga.gov.au/user/robbibt/lab/tree/Robbi/dea-notebooks/Real_world_examples/Change_filmstrips.ipynb"
      }
     },
     "e2e5848d3a394e179877effeb959a28c": {
      "model_module": "@jupyter-widgets/controls",
      "model_module_version": "1.5.0",
      "model_name": "ButtonStyleModel",
      "state": {
       "button_color": "green"
      }
     },
     "f4f69148d9e04ac983b304dd1303935c": {
      "model_module": "jupyter-leaflet",
      "model_module_version": "^0.14.0",
      "model_name": "LeafletWidgetControlModel",
      "state": {
       "_model_module": "jupyter-leaflet",
       "_model_module_version": "^0.14.0",
       "_view_count": null,
       "_view_module": "jupyter-leaflet",
       "_view_module_version": "^0.14.0",
       "options": [
        "position",
        "transparent_bg"
       ],
       "position": "bottomleft",
       "widget": "IPY_MODEL_04cbdfdbbf734dae8021c5ba9a01efe6"
      }
     }
    },
    "version_major": 2,
    "version_minor": 0
   }
  }
 },
 "nbformat": 4,
 "nbformat_minor": 4
}
